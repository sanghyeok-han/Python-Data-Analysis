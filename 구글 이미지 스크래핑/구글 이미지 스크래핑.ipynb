{
 "cells": [
  {
   "cell_type": "code",
   "execution_count": 1,
   "metadata": {},
   "outputs": [],
   "source": [
    "from selenium import webdriver\n",
    "from selenium.webdriver.support.ui import WebDriverWait as Wait\n",
    "from selenium.webdriver.support import expected_conditions as ec\n",
    "from selenium.webdriver.common.by import By\n",
    "from selenium.webdriver.common.keys import Keys\n",
    "import pandas as pd\n",
    "import time\n",
    "import re"
   ]
  },
  {
   "cell_type": "code",
   "execution_count": 2,
   "metadata": {},
   "outputs": [],
   "source": [
    "driver = webdriver.Chrome(\"C:/selenium/chromedriver\")\n",
    "driver.implicitly_wait(1)\n",
    "driver.maximize_window()\n",
    "driver.implicitly_wait(1)"
   ]
  },
  {
   "cell_type": "code",
   "execution_count": 3,
   "metadata": {},
   "outputs": [],
   "source": [
    "driver.get(\"https://www.google.co.kr/imghp?hl=ko&tab=wi&ogbl\")\n",
    "\n",
    "keyword = \"car\"\n",
    "\n",
    "im_search_blank = Wait(driver, 5).until(\n",
    "                ec.presence_of_element_located((By.XPATH, '//*[@id=\"sbtc\"]/div/div[2]/input')))\n",
    "im_search_blank.send_keys(keyword)\n",
    "im_search_blank.send_keys(Keys.ENTER)\n",
    "\n",
    "for _ in range(10):\n",
    "    driver.execute_script(\"window.scrollTo(0, document.body.scrollHeight)\")\n",
    "    time.sleep(0.5)\n",
    "    \n",
    "more_images_bt =  Wait(driver, 5).until(\n",
    "    ec.presence_of_element_located((By.XPATH, '//*[@id=\"islmp\"]/div/div/div/div/div[5]/input')))\n",
    "more_images_bt.click()\n",
    "\n",
    "for _ in range(10):\n",
    "    driver.execute_script(\"window.scrollTo(0, document.body.scrollHeight)\")\n",
    "    time.sleep(0.5)"
   ]
  },
  {
   "cell_type": "code",
   "execution_count": 4,
   "metadata": {},
   "outputs": [],
   "source": [
    "image_show_bts = Wait(driver, 5).until(\n",
    "                ec.presence_of_all_elements_located((By.CSS_SELECTOR, 'div.BUooTd')))"
   ]
  },
  {
   "cell_type": "code",
   "execution_count": 5,
   "metadata": {},
   "outputs": [
    {
     "data": {
      "text/plain": [
       "745"
      ]
     },
     "execution_count": 5,
     "metadata": {},
     "output_type": "execute_result"
    }
   ],
   "source": [
    "len(image_show_bts)"
   ]
  },
  {
   "cell_type": "code",
   "execution_count": 273,
   "metadata": {},
   "outputs": [],
   "source": [
    "driver.switch_to.window(driver.window_handles[0])"
   ]
  },
  {
   "cell_type": "code",
   "execution_count": null,
   "metadata": {},
   "outputs": [],
   "source": [
    "image_url_li = []\n",
    "\n",
    "count = 1\n",
    "for image_show_bt in image_show_bts[0:]:\n",
    "    image_show_bt.click()\n",
    "    try:      \n",
    "        image_show_url = Wait(driver, 1).until(\n",
    "            ec.presence_of_element_located((By.XPATH, '//*[@id=\"islrg\"]/div[1]/div[' + str(count) + ']/a[1]')))\n",
    "    except:\n",
    "        count += 1\n",
    "        image_show_url = Wait(driver, 1).until(\n",
    "            ec.presence_of_element_located((By.XPATH, '//*[@id=\"islrg\"]/div[1]/div[' + str(count) + ']/a[1]')))\n",
    "    finally:\n",
    "        image_show_url = image_show_url.get_attribute(\"href\")\n",
    "        \n",
    "\n",
    "    # 새 탭에서 해당 이미지 검색결과만 나온 url을 들어감\n",
    "    driver.execute_script(\"window.open('');\")\n",
    "    driver.switch_to.window(driver.window_handles[1])\n",
    "    \n",
    "    driver.get(image_show_url)\n",
    "    time.sleep(0.5)\n",
    "\n",
    "    while True:\n",
    "        page_source = driver.page_source\n",
    "        re_object = re.search('<img class=\\\"irc_mut\\\" data-atf=\\\"0\\\" src=\\\"', page_source)\n",
    "\n",
    "        if re_object is not None:\n",
    "            image_url = page_source[re_object.end():]\n",
    "            image_url = image_url[:re.search('\\\"', image_url).start()]\n",
    "            image_url_li.append(image_url)\n",
    "            break\n",
    "        else:\n",
    "            time.sleep(0.5)\n",
    "\n",
    "    driver.close()\n",
    "    driver.switch_to.window(driver.window_handles[0])\n",
    "    \n",
    "    print(count, end= \" \")\n",
    "    count += 1"
   ]
  },
  {
   "cell_type": "code",
   "execution_count": 263,
   "metadata": {},
   "outputs": [],
   "source": [
    "page_source = driver.page_source\n",
    "re_object = re.search('<img class=\\\"irc_mut\\\" data-atf=\\\"0\\\" src=\\\"', page_source)\n",
    "re_object"
   ]
  },
  {
   "cell_type": "code",
   "execution_count": null,
   "metadata": {},
   "outputs": [],
   "source": [
    "image_url_li = []\n",
    "for count, image_show_bt in enumerate(image_show_bts):\n",
    "    image_show_bt.click()\n",
    "    image_show_url = Wait(driver, 5).until(\n",
    "        ec.presence_of_element_located((By.XPATH, '//*[@id=\"islrg\"]/div[1]/div[' + str(count + 1) + ']/a[1]')))\n",
    "    image_show_url = image_show_url.get_attribute(\"href\")\n",
    "\n",
    "    # 새 탭에서 해당 이미지 검색결과만 나온 url을 들어감\n",
    "    driver.execute_script(\"window.open('');\")\n",
    "    driver.switch_to.window(driver.window_handles[1])\n",
    "    \n",
    "    driver.get(image_show_url)\n",
    "    driver.implicitly_wait(0.2)\n",
    "    \n",
    "    while True:\n",
    "        image_url = Wait(driver, 3).until(\n",
    "                        ec.presence_of_element_located((By.XPATH, '//*[@id=\"irc_cc\"]/div/div[2]/div[1]/div[2]/div[2]/a/img')))\n",
    "        image_url = image_url.get_attribute(\"src\") \n",
    "        \n",
    "        if image_url is not None:\n",
    "            image_url_li.append(image_url)\n",
    "            break\n",
    "        else:\n",
    "            time.sleep(0.1)\n",
    "            \n",
    "    driver.close()\n",
    "    driver.switch_to.window(driver.window_handles[0])\n",
    "    \n",
    "    print(count, end= \" \")"
   ]
  },
  {
   "cell_type": "code",
   "execution_count": 254,
   "metadata": {},
   "outputs": [],
   "source": [
    "driver.close()"
   ]
  },
  {
   "cell_type": "code",
   "execution_count": null,
   "metadata": {},
   "outputs": [],
   "source": [
    "image_url_li"
   ]
  },
  {
   "cell_type": "code",
   "execution_count": 6,
   "metadata": {},
   "outputs": [
    {
     "data": {
      "image/png": "[encoded data removed]",
      "text/plain": [
       "<Figure size 432x288 with 1 Axes>"
      ]
     },
     "metadata": {
      "needs_background": "light"
     },
     "output_type": "display_data"
    }
   ],
   "source": [
    "import requests\n",
    "import skimage.io\n",
    "import skimage\n",
    "from io import BytesIO\n",
    "\n",
    "# response = requests.get(image_url_li[24])\n",
    "\n",
    "\n",
    "# image = skimage.io.imread(BytesIO(response.content))\n",
    "image = skimage.io.imread(\"car.jpg\")\n",
    "\n",
    "new_image = skimage.transform.resize(image, (100, 100))\n",
    "\n",
    "import matplotlib.pyplot as plt\n",
    "%matplotlib inline\n",
    "\n",
    "plt.figure()\n",
    "plt.imshow(new_image) \n",
    "plt.show()"
   ]
  },
  {
   "cell_type": "code",
   "execution_count": 90,
   "metadata": {},
   "outputs": [
    {
     "name": "stderr",
     "output_type": "stream",
     "text": [
      "C:\\Users\\User\\Anaconda3\\lib\\site-packages\\skimage\\io\\_io.py:140: UserWarning: C:/Users/User/Desktop/blue6.png is a low contrast image\n",
      "  warn('%s is a low contrast image' % fname)\n"
     ]
    }
   ],
   "source": [
    "skimage.io.imsave(\"C:/Users/User/Desktop/blue\" + \"6\" + \".png\", new_image)"
   ]
  },
  {
   "cell_type": "code",
   "execution_count": 73,
   "metadata": {},
   "outputs": [
    {
     "data": {
      "image/png": "[encoded data removed]",
      "text/plain": [
       "<Figure size 432x288 with 1 Axes>"
      ]
     },
     "metadata": {
      "needs_background": "light"
     },
     "output_type": "display_data"
    }
   ],
   "source": []
  },
  {
   "cell_type": "code",
   "execution_count": 33,
   "metadata": {},
   "outputs": [],
   "source": [
    "driver.close()"
   ]
  },
  {
   "cell_type": "code",
   "execution_count": 6,
   "metadata": {},
   "outputs": [
    {
     "name": "stdout",
     "output_type": "stream",
     "text": [
      "['e', 'b', 'c', 'd', 'a']\n"
     ]
    }
   ],
   "source": [
    "li = [\"a\", \"b\", \"c\", \"d\", \"e\"]\n",
    "indices = list(range(len(li)))\n",
    "\n",
    "import random\n",
    "\n",
    "random.shuffle(indices)\n",
    "li = [li[i] for i in indices]\n",
    "print(li)"
   ]
  },
  {
   "cell_type": "code",
   "execution_count": 12,
   "metadata": {},
   "outputs": [
    {
     "name": "stdout",
     "output_type": "stream",
     "text": [
      "['a', 'b', 'c', 'd', 'e']\n"
     ]
    }
   ],
   "source": [
    "li = [li[i] for i in indices]\n",
    "print(li)"
   ]
  }
 ],
 "metadata": {
  "kernelspec": {
   "display_name": "Python 3",
   "language": "python",
   "name": "python3"
  },
  "language_info": {
   "codemirror_mode": {
    "name": "ipython",
    "version": 3
   },
   "file_extension": ".py",
   "mimetype": "text/x-python",
   "name": "python",
   "nbconvert_exporter": "python",
   "pygments_lexer": "ipython3",
   "version": "3.7.3"
  }
 },
 "nbformat": 4,
 "nbformat_minor": 2
}
