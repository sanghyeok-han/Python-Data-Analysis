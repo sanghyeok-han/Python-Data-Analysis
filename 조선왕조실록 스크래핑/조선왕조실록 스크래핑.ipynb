{
 "cells": [
  {
   "cell_type": "markdown",
   "metadata": {},
   "source": [
    "## 문서 하나 예시"
   ]
  },
  {
   "cell_type": "code",
   "execution_count": 7,
   "metadata": {},
   "outputs": [],
   "source": [
    "import requests\n",
    "from bs4 import BeautifulSoup\n",
    "import string\n",
    "import re\n",
    "import pandas as pd"
   ]
  },
  {
   "cell_type": "code",
   "execution_count": 20,
   "metadata": {},
   "outputs": [],
   "source": [
    "response = requests.get(\"http://sillok.history.go.kr/id/kob_10005001_001\").text\n",
    "soup = BeautifulSoup(response, \"lxml\")"
   ]
  },
  {
   "cell_type": "code",
   "execution_count": 21,
   "metadata": {},
   "outputs": [
    {
     "data": {
      "text/plain": [
       "'광해군일기[정초본] 4권, 광해 즉위년 5월 1일 병술 1번째기사1608년 명 만력(萬曆) 36년'"
      ]
     },
     "execution_count": 21,
     "metadata": {},
     "output_type": "execute_result"
    }
   ],
   "source": [
    "title_loc = soup.select(\"span.tit_loc\")[0].getText(strip=True)\n",
    "title_loc"
   ]
  },
  {
   "cell_type": "code",
   "execution_count": 22,
   "metadata": {},
   "outputs": [
    {
     "data": {
      "text/plain": [
       "'광해군일기[정초본]'"
      ]
     },
     "execution_count": 22,
     "metadata": {},
     "output_type": "execute_result"
    }
   ],
   "source": [
    "siloc_name = re.match(\"[\\w\\[\\]]+\", title_loc).group()\n",
    "siloc_name"
   ]
  },
  {
   "cell_type": "code",
   "execution_count": 23,
   "metadata": {},
   "outputs": [
    {
     "data": {
      "text/plain": [
       "'4'"
      ]
     },
     "execution_count": 23,
     "metadata": {},
     "output_type": "execute_result"
    }
   ],
   "source": [
    "siloc_num = re.match(\"[\\w\\[\\]]+ (\\d+)\", title_loc).group(1)\n",
    "siloc_num"
   ]
  },
  {
   "cell_type": "code",
   "execution_count": 24,
   "metadata": {},
   "outputs": [
    {
     "data": {
      "text/plain": [
       "'광해'"
      ]
     },
     "execution_count": 24,
     "metadata": {},
     "output_type": "execute_result"
    }
   ],
   "source": [
    "king_name = re.search(\", (\\w+)\", title_loc).group(1)\n",
    "king_name"
   ]
  },
  {
   "cell_type": "code",
   "execution_count": 25,
   "metadata": {},
   "outputs": [
    {
     "data": {
      "text/plain": [
       "'즉위'"
      ]
     },
     "execution_count": 25,
     "metadata": {},
     "output_type": "execute_result"
    }
   ],
   "source": [
    "king_year = re.search(\"([\\d즉위]+)년 윤*\\d\", title_loc).group(1)\n",
    "king_year"
   ]
  },
  {
   "cell_type": "code",
   "execution_count": 26,
   "metadata": {},
   "outputs": [
    {
     "data": {
      "text/plain": [
       "'5'"
      ]
     },
     "execution_count": 26,
     "metadata": {},
     "output_type": "execute_result"
    }
   ],
   "source": [
    "king_month = re.search(\"윤*(\\d+)월\", title_loc).group(1)\n",
    "king_month"
   ]
  },
  {
   "cell_type": "code",
   "execution_count": 27,
   "metadata": {},
   "outputs": [
    {
     "data": {
      "text/plain": [
       "0"
      ]
     },
     "execution_count": 27,
     "metadata": {},
     "output_type": "execute_result"
    }
   ],
   "source": [
    "is_leap_year = re.findall(\"(윤)\\d+\", title_loc)\n",
    "if len(is_leap_year) >= 1:\n",
    "    is_leap_year = 1\n",
    "else:\n",
    "    is_leap_year = 0\n",
    "is_leap_year"
   ]
  },
  {
   "cell_type": "code",
   "execution_count": 28,
   "metadata": {},
   "outputs": [
    {
     "data": {
      "text/plain": [
       "'1'"
      ]
     },
     "execution_count": 28,
     "metadata": {},
     "output_type": "execute_result"
    }
   ],
   "source": [
    "king_date = re.search(\"월 (\\d+)일\", title_loc).group(1)\n",
    "king_date"
   ]
  },
  {
   "cell_type": "code",
   "execution_count": 29,
   "metadata": {},
   "outputs": [
    {
     "data": {
      "text/plain": [
       "'병술'"
      ]
     },
     "execution_count": 29,
     "metadata": {},
     "output_type": "execute_result"
    }
   ],
   "source": [
    "kapja = \"\".join(re.findall(\"\\d+일 (\\w+) \\d\", title_loc))\n",
    "kapja"
   ]
  },
  {
   "cell_type": "code",
   "execution_count": 30,
   "metadata": {},
   "outputs": [
    {
     "data": {
      "text/plain": [
       "'1'"
      ]
     },
     "execution_count": 30,
     "metadata": {},
     "output_type": "execute_result"
    }
   ],
   "source": [
    "article_num = re.search(\"(\\d+)번째기사\", title_loc).group(1)\n",
    "article_num"
   ]
  },
  {
   "cell_type": "code",
   "execution_count": 20,
   "metadata": {},
   "outputs": [
    {
     "data": {
      "text/plain": [
       "'1608'"
      ]
     },
     "execution_count": 20,
     "metadata": {},
     "output_type": "execute_result"
    }
   ],
   "source": [
    "year = re.search(\"번째기사(\\d+)\", title_loc).group(1)\n",
    "year"
   ]
  },
  {
   "cell_type": "code",
   "execution_count": 21,
   "metadata": {},
   "outputs": [
    {
     "data": {
      "text/plain": [
       "'명'"
      ]
     },
     "execution_count": 21,
     "metadata": {},
     "output_type": "execute_result"
    }
   ],
   "source": [
    "chinese_country_name = re.search(\"번째기사\\d+년 (\\w+)\", title_loc).group(1)\n",
    "chinese_country_name"
   ]
  },
  {
   "cell_type": "code",
   "execution_count": 22,
   "metadata": {},
   "outputs": [
    {
     "data": {
      "text/plain": [
       "'만력(萬曆)'"
      ]
     },
     "execution_count": 22,
     "metadata": {},
     "output_type": "execute_result"
    }
   ],
   "source": [
    "chinese_emperor_name = re.search(\"번째기사\\d+년 \\w+ ([\\w()]+)\", title_loc).group(1)\n",
    "chinese_emperor_name"
   ]
  },
  {
   "cell_type": "code",
   "execution_count": 23,
   "metadata": {},
   "outputs": [
    {
     "data": {
      "text/plain": [
       "'36'"
      ]
     },
     "execution_count": 23,
     "metadata": {},
     "output_type": "execute_result"
    }
   ],
   "source": [
    "chinese_emperor_year = re.search(\"(\\d+)년$\", title_loc).group(1)\n",
    "chinese_emperor_year"
   ]
  },
  {
   "cell_type": "code",
   "execution_count": 24,
   "metadata": {},
   "outputs": [
    {
     "data": {
      "text/plain": [
       "'양사가 합사하여 홍식·최천건·성영 등의 처벌을 청하다'"
      ]
     },
     "execution_count": 24,
     "metadata": {},
     "output_type": "execute_result"
    }
   ],
   "source": [
    "title = soup.select(\"h3\")[0].getText()\n",
    "title"
   ]
  },
  {
   "cell_type": "code",
   "execution_count": 25,
   "metadata": {},
   "outputs": [
    {
     "data": {
      "text/plain": [
       "'양사가 합사하여 아뢰기를,\\n\"홍식(洪湜)은 멀리 귀양보내고,최천건(崔天健)·성영(成泳)·송응순(宋應洵)·유업(柳𢢜)·이덕온(李德溫)·황섬(黃暹)·송준(宋駿)등과기자헌(奇自獻)은 관작을 삭탈하여 도성문 밖으로 내쫓고,이홍로(李弘老)는 율(律)에 따라 처리하소서.\"\\n하니, 답하기를,\\n\"황섬과송준은 관직만 삭탈하고,기자헌은 국가의 일에 별로 관계한 것이 없는데 어찌 관작을 삭탈하고 도성문 밖으로 내쫓을 것까지 있겠는가.이홍로에 대해서는 이미 하유하였다. 번거롭게 하지 말라.\"\\n하였다.'"
      ]
     },
     "execution_count": 25,
     "metadata": {},
     "output_type": "execute_result"
    }
   ],
   "source": [
    "content = \"\\n\".join([tag.getText(strip=True) for tag in soup.select(\"div.ins_view_left div.ins_left_in p.paragraph\")])\n",
    "content = content.split(\"\\n○\")[0] # 태그로 걸렀음에도 원문부분까지 나오는 것을 방지\n",
    "content"
   ]
  },
  {
   "cell_type": "code",
   "execution_count": 26,
   "metadata": {},
   "outputs": [
    {
     "data": {
      "text/plain": [
       "'정론-간쟁(諫諍) / 사법-탄핵(彈劾)'"
      ]
     },
     "execution_count": 26,
     "metadata": {},
     "output_type": "execute_result"
    }
   ],
   "source": [
    "content_class = soup.select(\"div.ins_left_in \")[0].getText(strip=True)\n",
    "content_class = content_class[re.search(\"【분류】\", content_class).end():]\n",
    "content_class = content_class.split(\"[\")[0]\n",
    "content_class"
   ]
  },
  {
   "cell_type": "markdown",
   "metadata": {},
   "source": [
    "## 문서 하나 저장"
   ]
  },
  {
   "cell_type": "markdown",
   "metadata": {},
   "source": [
    "# *** http://sillok.history.go.kr/id/kea_10005004_001 같은 즉위년의 경우 처리하기, 분류에서 다음 [가 나오기 전에 끊기\n"
   ]
  },
  {
   "cell_type": "code",
   "execution_count": 1,
   "metadata": {},
   "outputs": [],
   "source": [
    "import requests\n",
    "from bs4 import BeautifulSoup\n",
    "import string\n",
    "import re\n",
    "import pandas as pd"
   ]
  },
  {
   "cell_type": "code",
   "execution_count": 2,
   "metadata": {},
   "outputs": [],
   "source": [
    "response = requests.get(\"http://sillok.history.go.kr/id/kea_10005004_001\").text\n",
    "soup = BeautifulSoup(response, \"lxml\")"
   ]
  },
  {
   "cell_type": "code",
   "execution_count": 4,
   "metadata": {},
   "outputs": [],
   "source": [
    "df =  pd.DataFrame(columns=[\"실록명\", \"권\", \"왕명\", \"즉위년\", \"즉위월\", \"윤년여부\", \"즉위일\",\n",
    "                    \"육십갑자\", \"기사순서\", \"연도\", \"중국국가명\", \"중국황제명\",\n",
    "                    \"중국황제즉위년\", \"제목\", \"내용\", \"분류\"])"
   ]
  },
  {
   "cell_type": "code",
   "execution_count": 6,
   "metadata": {},
   "outputs": [],
   "source": [
    "title_loc = soup.select(\"span.tit_loc\")[0].getText(strip=True)\n",
    "siloc_name = re.match(\"[\\w\\[\\]]+\", title_loc).group()\n",
    "siloc_num = re.match(\"[\\w\\[\\]]+ (\\d+)\", title_loc).group(1)\n",
    "king_name = re.search(\", (\\w+)\", title_loc).group(1)\n",
    "king_year = re.search(\"([\\d즉위]+)년 윤*\\d\", title_loc).group(1)\n",
    "king_month = re.search(\"윤*(\\d+)월\", title_loc).group(1)\n",
    "is_leap_year = re.findall(\"(윤)\\d+\", title_loc)\n",
    "if len(is_leap_year) >= 1:\n",
    "    is_leap_year = 1\n",
    "else:\n",
    "    is_leap_year = 0\n",
    "king_date = re.search(\"월 (\\d+)일\", title_loc).group(1)\n",
    "kapja = \"\".join(re.findall(\"\\d+일 (\\w+) \\d\", title_loc))\n",
    "article_num = re.search(\"(\\d+)번째기사\", title_loc).group(1)\n",
    "year = re.search(\"번째기사(\\d+)\", title_loc).group(1)\n",
    "chinese_country_name = re.search(\"번째기사\\d+년 (\\w+)\", title_loc).group(1)\n",
    "chinese_emperor_name = re.search(\"번째기사\\d+년 \\w+ ([\\w()]+)\", title_loc).group(1)\n",
    "chinese_emperor_year = re.search(\"(\\d+)년$\", title_loc).group(1)\n",
    "title = soup.select(\"h3\")[0].getText()\n",
    "content = \"\\n\".join([tag.getText(strip=True) for tag in soup.select(\"div.ins_left_in p.paragraph\")])\n",
    "content = content.split(\"\\n○\")[0] # 태그로 걸렀음에도 원문부분까지 나오는 것을 방지\n",
    "content_class = soup.select(\"div.ins_left_in \")[0].getText(strip=True)\n",
    "content_class = content_class[re.search(\"【분류】\", content_class).end():]\n",
    "content_class = content_class.split(\"[\")[0]"
   ]
  },
  {
   "cell_type": "code",
   "execution_count": 8,
   "metadata": {},
   "outputs": [],
   "source": [
    "df = df.append({\"실록명\": siloc_name, \"권\": siloc_num, \"왕명\": king_name,\n",
    "                  \"즉위년\": king_year, \"즉위월\": king_month, \"윤년여부\": is_leap_year, \"즉위일\": king_date,\n",
    "                  \"육십갑자\": kapja, \"기사순서\": article_num, \"연도\": year,\n",
    "                  \"중국국가명\": chinese_country_name, \"중국황제명\": chinese_emperor_name,\n",
    "                  \"중국황제즉위년\": chinese_emperor_year, \"제목\": title, \"내용\": content, \"분류\": content_class}, ignore_index=True)"
   ]
  },
  {
   "cell_type": "code",
   "execution_count": 9,
   "metadata": {},
   "outputs": [
    {
     "data": {
      "text/html": [
       "<div>\n",
       "<style scoped>\n",
       "    .dataframe tbody tr th:only-of-type {\n",
       "        vertical-align: middle;\n",
       "    }\n",
       "\n",
       "    .dataframe tbody tr th {\n",
       "        vertical-align: top;\n",
       "    }\n",
       "\n",
       "    .dataframe thead th {\n",
       "        text-align: right;\n",
       "    }\n",
       "</style>\n",
       "<table border=\"1\" class=\"dataframe\">\n",
       "  <thead>\n",
       "    <tr style=\"text-align: right;\">\n",
       "      <th></th>\n",
       "      <th>실록명</th>\n",
       "      <th>권</th>\n",
       "      <th>왕명</th>\n",
       "      <th>즉위년</th>\n",
       "      <th>즉위월</th>\n",
       "      <th>윤년여부</th>\n",
       "      <th>즉위일</th>\n",
       "      <th>육십갑자</th>\n",
       "      <th>기사순서</th>\n",
       "      <th>연도</th>\n",
       "      <th>중국국가명</th>\n",
       "      <th>중국황제명</th>\n",
       "      <th>중국황제즉위년</th>\n",
       "      <th>제목</th>\n",
       "      <th>내용</th>\n",
       "      <th>분류</th>\n",
       "    </tr>\n",
       "  </thead>\n",
       "  <tbody>\n",
       "    <tr>\n",
       "      <th>0</th>\n",
       "      <td>문종실록</td>\n",
       "      <td>1</td>\n",
       "      <td>문종</td>\n",
       "      <td>즉위</td>\n",
       "      <td>5</td>\n",
       "      <td>0</td>\n",
       "      <td>4</td>\n",
       "      <td>정미</td>\n",
       "      <td>1</td>\n",
       "      <td>1450</td>\n",
       "      <td>명</td>\n",
       "      <td>경태(景泰)</td>\n",
       "      <td>1</td>\n",
       "      <td>임금이 빈전에 나아가려 하자 승정원에서 조리할 것을 아뢰다</td>\n",
       "      <td>승정원(承政院)에서 아뢰기를,\\n\"신(臣) 등이 듣건대 임금께서 내일 빈전(殯殿)에...</td>\n",
       "      <td>왕실-국왕(國王)</td>\n",
       "    </tr>\n",
       "  </tbody>\n",
       "</table>\n",
       "</div>"
      ],
      "text/plain": [
       "    실록명  권  왕명 즉위년 즉위월 윤년여부 즉위일 육십갑자 기사순서    연도 중국국가명   중국황제명 중국황제즉위년  \\\n",
       "0  문종실록  1  문종  즉위   5    0   4   정미    1  1450     명  경태(景泰)       1   \n",
       "\n",
       "                                 제목  \\\n",
       "0  임금이 빈전에 나아가려 하자 승정원에서 조리할 것을 아뢰다   \n",
       "\n",
       "                                                  내용         분류  \n",
       "0  승정원(承政院)에서 아뢰기를,\\n\"신(臣) 등이 듣건대 임금께서 내일 빈전(殯殿)에...  왕실-국왕(國王)  "
      ]
     },
     "execution_count": 9,
     "metadata": {},
     "output_type": "execute_result"
    }
   ],
   "source": [
    "df"
   ]
  },
  {
   "cell_type": "markdown",
   "metadata": {},
   "source": [
    "## 오류 페이지의 확인"
   ]
  },
  {
   "cell_type": "code",
   "execution_count": 179,
   "metadata": {},
   "outputs": [],
   "source": [
    "import requests\n",
    "from bs4 import BeautifulSoup\n",
    "import re"
   ]
  },
  {
   "cell_type": "code",
   "execution_count": 180,
   "metadata": {},
   "outputs": [
    {
     "data": {
      "text/plain": [
       "[<p class=\"error_tit\">죄송합니다.<br/>요청하신 페이지를 찾을 수 없습니다.</p>]"
      ]
     },
     "execution_count": 180,
     "metadata": {},
     "output_type": "execute_result"
    }
   ],
   "source": [
    "# 오류 페이지인 경우\n",
    "response = requests.get(\"http://sillok.history.go.kr/id/kpa_10406101_008\").text\n",
    "soup = BeautifulSoup(response, \"lxml\")\n",
    "soup.select(\"p.error_tit\")"
   ]
  },
  {
   "cell_type": "code",
   "execution_count": 182,
   "metadata": {},
   "outputs": [
    {
     "data": {
      "text/plain": [
       "[]"
      ]
     },
     "execution_count": 182,
     "metadata": {},
     "output_type": "execute_result"
    }
   ],
   "source": [
    "# 오류 페이지가 아닌 경우\n",
    "response = requests.get(\"http://sillok.history.go.kr/id/kpa_10406101_003\").text\n",
    "soup = BeautifulSoup(response, \"lxml\")\n",
    "soup.select(\"p.error_tit\")"
   ]
  },
  {
   "cell_type": "markdown",
   "metadata": {},
   "source": [
    "## 왕 및 왕 즉위년별 전체 기사 스크래핑 후 저장"
   ]
  },
  {
   "cell_type": "code",
   "execution_count": 1,
   "metadata": {},
   "outputs": [],
   "source": [
    "import requests\n",
    "from bs4 import BeautifulSoup\n",
    "import string\n",
    "import re\n",
    "import pandas as pd\n",
    "import time\n",
    "import os\n",
    "from os import listdir\n",
    "from os.path import isfile, join"
   ]
  },
  {
   "cell_type": "code",
   "execution_count": 2,
   "metadata": {},
   "outputs": [],
   "source": [
    "base_url1 = \"http://sillok.history.go.kr/id/k\"\n",
    "king_url_parts = string.ascii_lowercase[:-1] # a to y\n",
    "base_url2 = \"a_1\"\n",
    "king_year_url_parts = list(map(lambda x: str(x).zfill(2), list(range(0, 61)))) # 0인 경우 즉위년\n",
    "king_month_url_parts = list(map(lambda x: str(x).zfill(2), list(range(1, 13))))\n",
    "leap_year_url_parts = [\"0\", \"1\"]\n",
    "king_date_url_parts = list(map(lambda x: str(x).zfill(2), list(range(1, 32))))\n",
    "base_url3 = \"_\"\n",
    "# article_num은 최대를 잘 모르겠으며 양이 많으므로 동적으로 생성\n",
    "\n",
    "base_path = r\"C:\\Users\\User\\Desktop\\주피터 노트북 작업 공간\\프로젝트\\정보디자인\"\n",
    "all_file_names = [f for f in listdir(base_path) if isfile(join(base_path, f))]\n",
    "# 가장 최근에 스크래핑된 왕의 url 파트\n",
    "last_scraped_king_url_part = sorted(set(list(map(lambda x: \"\".join(re.findall(\"^k(\\w)\", x)), all_file_names))))[-1]\n",
    "\n",
    "with open(\"empty_url_marks.txt\", \"r\") as empty_url_marks:\n",
    "    empty_url_mark_list = empty_url_marks.read()\n",
    "    empty_url_mark_list = empty_url_mark_list.split(\"\\n\")"
   ]
  },
  {
   "cell_type": "code",
   "execution_count": 3,
   "metadata": {},
   "outputs": [
    {
     "name": "stdout",
     "output_type": "stream",
     "text": [
      "\n",
      "왕:  a\n",
      "\n",
      "왕:  b\n",
      "\n",
      "왕:  c\n",
      "\n",
      "왕:  d\n",
      "\n",
      "왕:  e\n",
      "\n",
      "왕:  f\n",
      "\n",
      "왕:  g\n",
      "\n",
      "왕:  h\n",
      "\n",
      "왕:  i\n",
      "\n",
      "왕:  j\n",
      "\n",
      "왕:  k\n",
      "\n",
      "왕:  l\n",
      "\n",
      "왕:  m\n",
      "\n",
      "왕:  n\n",
      "\n",
      "왕:  o\n",
      "\n",
      "왕:  p\n",
      "\n",
      "왕:  q\n",
      "\n",
      "왕:  r\n",
      "\n",
      "왕:  s\n",
      "\n",
      "년:  00\n",
      "\n",
      "년:  01\n",
      "\n",
      "년:  02\n",
      "\n",
      "년:  03\n",
      "\n",
      "년:  04\n",
      "\n",
      "년:  05\n",
      "\n",
      "년:  06\n",
      "\n",
      "년:  07\n",
      "\n",
      "년:  08\n",
      "\n",
      "년:  09\n",
      "\n",
      "년:  10\n",
      "\n",
      "년:  11\n",
      "\n",
      "년:  12\n",
      "\n",
      "년:  13\n",
      "\n",
      "년:  14\n",
      "\n",
      "년:  15\n",
      "\n",
      "년:  16\n",
      "\n",
      "년:  17\n",
      "\n",
      "년:  18\n",
      "\n",
      "년:  19\n",
      "\n",
      "년:  20\n",
      "\n",
      "년:  21\n",
      "\n",
      "년:  22\n",
      "\n",
      "년:  23\n",
      "\n",
      "년:  24\n",
      "\n",
      "년:  25\n",
      "\n",
      "년:  26\n",
      "\n",
      "년:  27\n",
      "\n",
      "년:  28\n",
      "\n",
      "년:  29\n",
      "\n",
      "년:  30\n",
      "\n",
      "년:  31\n",
      "\n",
      "년:  32\n",
      "\n",
      "년:  33\n",
      "\n",
      "년:  34\n",
      "\n",
      "년:  35\n",
      "\n",
      "년:  36\n",
      "\n",
      "년:  37\n",
      "\n",
      "년:  38\n",
      "\n",
      "년:  39\n",
      "\n",
      "년:  40\n",
      "\n",
      "년:  41\n",
      "\n",
      "년:  42\n",
      "\n",
      "년:  43\n",
      "\n",
      "년:  44\n",
      "\n",
      "년:  45\n",
      "\n",
      "년:  46\n",
      "\n",
      "년:  47\n",
      "01 02 03 04 05 06 07 08 09 10 11 12 \n",
      "년:  48\n",
      "01 02 03 04 05 06 07 08 09 10 11 12 \n",
      "년:  49\n",
      "01 02 03 04 05 06 07 08 09 10 11 12 \n",
      "년:  50\n",
      "01 02 03 04 05 06 07 08 09 10 11 12 \n",
      "년:  51\n",
      "01 02 03 04 05 06 07 08 09 10 11 12 \n",
      "년:  52\n",
      "01 02 03 04 05 06 07 08 09 10 11 12 \n",
      "년:  53\n",
      "01 02 03 04 05 06 07 08 09 10 11 12 \n",
      "년:  54\n",
      "01 02 03 04 05 06 07 08 09 10 11 12 \n",
      "년:  55\n",
      "01 02 03 04 05 06 07 08 09 10 11 12 \n",
      "년:  56\n",
      "01 02 03 04 05 06 07 08 09 10 11 12 \n",
      "년:  57\n",
      "01 02 03 04 05 06 07 08 09 10 11 12 \n",
      "년:  58\n",
      "01 02 03 04 05 06 07 08 09 10 11 12 \n",
      "년:  59\n",
      "01 02 03 04 05 06 07 08 09 10 11 12 \n",
      "년:  60\n",
      "01 02 03 04 05 06 07 08 09 10 11 12 \n",
      "왕:  t\n",
      "\n",
      "년:  00\n",
      "01 02 03 04 05 06 07 08 09 10 11 12 \n",
      "년:  01\n",
      "01 02 03 04 05 06 07 08 09 10 11 12 \n",
      "년:  02\n",
      "01 02 03 04 05 06 07 08 09 10 11 12 \n",
      "년:  03\n",
      "01 02 03 04 05 06 07 08 09 10 11 12 \n",
      "년:  04\n",
      "01 02 03 04 05 06 07 08 09 10 11 12 \n",
      "년:  05\n",
      "01 02 03 04 05 06 07 08 09 10 11 12 \n",
      "왕:  u\n",
      "\n",
      "년:  00\n",
      "01 02 03 04 05 06 07 08 09 10 11 12 \n",
      "년:  01\n",
      "01 02 03 04 05 06 07 08 09 10 11 12 \n",
      "년:  02\n",
      "01 02 03 04 05 06 07 08 09 10 11 12 \n",
      "년:  03\n",
      "01 02 03 04 05 06 07 08 09 10 11 12 \n",
      "년:  04\n",
      "01 02 03 04 05 06 07 08 09 10 11 12 \n",
      "년:  05\n",
      "01 02 03 04 05 06 07 08 09 10 11 12 \n",
      "년:  06\n",
      "01 02 03 04 05 06 07 08 09 10 11 12 \n",
      "년:  07\n",
      "01 02 03 04 05 06 07 08 09 10 11 12 \n",
      "년:  08\n",
      "01 02 03 04 05 06 07 08 09 10 11 12 \n",
      "년:  09\n",
      "01 02 03 04 05 06 07 08 09 10 11 12 \n",
      "년:  10\n",
      "01 02 03 04 05 06 07 08 09 10 11 12 \n",
      "년:  11\n",
      "01 02 03 04 05 06 07 08 09 10 11 12 \n",
      "년:  12\n",
      "01 02 03 04 05 06 07 08 09 10 11 12 \n",
      "년:  13\n",
      "01 02 03 04 05 06 07 08 09 10 11 12 \n",
      "년:  14\n",
      "01 02 03 04 05 06 07 08 09 10 11 12 \n",
      "년:  15\n",
      "01 02 03 04 05 06 07 08 09 10 11 12 \n",
      "년:  16\n",
      "01 02 03 04 05 06 07 08 09 10 11 12 \n",
      "년:  17\n",
      "01 02 03 04 05 06 07 08 09 10 11 12 \n",
      "년:  18\n",
      "01 02 03 04 05 06 07 08 09 10 11 12 \n",
      "년:  19\n",
      "01 02 03 04 05 06 07 08 09 10 11 12 \n",
      "년:  20\n",
      "01 02 03 04 05 06 07 08 09 10 11 12 \n",
      "년:  21\n",
      "01 02 03 04 05 06 07 08 09 10 11 12 \n",
      "년:  22\n",
      "01 02 03 04 05 06 07 08 09 10 11 12 \n",
      "년:  23\n",
      "01 02 03 04 05 06 07 08 09 10 11 12 \n",
      "년:  24\n",
      "01 02 03 04 05 06 07 08 09 10 11 12 \n",
      "년:  25\n",
      "01 02 03 04 05 06 07 08 09 10 11 12 \n",
      "년:  26\n",
      "01 02 03 04 05 06 07 08 09 10 11 12 \n",
      "년:  27\n",
      "01 02 03 04 05 06 07 08 09 10 11 12 \n",
      "년:  28\n",
      "01 02 03 04 05 06 07 08 09 10 11 12 \n",
      "년:  29\n",
      "01 02 03 04 05 06 07 08 09 10 11 12 \n",
      "년:  30\n",
      "01 02 03 04 05 06 07 08 09 10 11 12 \n",
      "년:  31\n",
      "01 02 03 04 05 06 07 08 09 10 11 12 \n",
      "년:  32\n",
      "01 02 03 04 05 06 07 08 09 10 11 12 \n",
      "년:  33\n",
      "01 02 03 04 05 06 07 08 09 10 11 12 \n",
      "년:  34\n",
      "01 02 03 04 05 06 07 08 09 10 11 12 \n",
      "년:  35\n",
      "01 02 03 04 05 06 07 08 09 10 11 12 \n",
      "년:  36\n",
      "01 02 03 04 05 06 07 08 09 10 11 12 \n",
      "년:  37\n",
      "01 02 03 04 05 06 07 08 09 10 11 12 \n",
      "년:  38\n",
      "01 02 03 04 05 06 07 08 09 10 11 12 \n",
      "년:  39\n",
      "01 02 03 04 05 06 07 08 09 10 11 12 \n",
      "년:  40\n",
      "01 02 03 04 05 06 07 08 09 10 11 12 \n",
      "년:  41\n",
      "01 02 03 04 05 06 07 08 09 10 11 12 \n",
      "년:  42\n",
      "01 02 03 04 05 06 07 08 09 10 11 12 \n",
      "년:  43\n",
      "01 02 03 04 05 06 07 08 09 10 11 12 \n",
      "년:  44\n",
      "01 02 03 04 05 06 07 08 09 10 11 12 \n",
      "년:  45\n",
      "01 02 03 04 05 06 07 08 09 10 11 12 \n",
      "년:  46\n",
      "01 02 03 04 05 06 07 08 09 10 11 12 \n",
      "년:  47\n",
      "01 02 03 04 05 06 07 08 09 10 11 12 \n",
      "년:  48\n",
      "01 02 03 04 05 06 07 08 09 10 11 12 \n",
      "년:  49\n",
      "01 02 03 04 05 06 07 08 09 10 11 12 \n",
      "년:  50\n",
      "01 02 03 04 05 06 07 08 09 10 11 12 \n",
      "년:  51\n",
      "01 02 03 04 05 06 07 08 09 10 11 12 \n",
      "년:  52\n",
      "01 02 03 04 05 06 07 08 09 10 11 12 \n",
      "년:  53\n",
      "01 02 03 04 05 06 07 08 09 10 11 12 \n",
      "왕:  v\n",
      "\n",
      "년:  00\n",
      "01 02 03 04 05 06 07 08 09 10 11 12 \n",
      "년:  01\n",
      "01 02 03 04 05 06 07 08 09 10 11 12 \n",
      "년:  02\n",
      "01 02 03 04 05 06 07 08 09 10 11 12 \n",
      "년:  03\n",
      "01 02 03 04 05 06 07 08 09 10 11 12 \n",
      "년:  04\n",
      "01 02 03 04 05 06 07 08 09 10 11 12 \n",
      "년:  05\n",
      "01 02 03 04 05 06 07 08 09 10 11 12 \n",
      "년:  06\n",
      "01 02 03 04 05 06 07 08 09 10 11 12 \n",
      "년:  07\n",
      "01 02 03 04 05 06 07 08 09 10 11 12 \n",
      "년:  08\n",
      "01 02 03 04 05 06 07 08 09 10 11 12 \n",
      "년:  09\n",
      "01 02 03 04 05 06 07 08 09 10 11 12 \n",
      "년:  10\n",
      "01 02 03 04 05 06 07 08 09 10 11 12 \n",
      "년:  11\n",
      "01 02 03 04 05 06 07 08 09 10 11 12 \n",
      "년:  12\n",
      "01 02 03 04 05 06 07 08 09 10 11 12 \n",
      "년:  13\n",
      "01 02 03 04 05 06 07 08 09 10 11 12 \n",
      "년:  14\n",
      "01 02 03 04 05 06 07 08 09 10 11 12 \n",
      "년:  15\n",
      "01 02 03 04 05 06 07 08 09 10 11 12 \n",
      "년:  16\n",
      "01 02 03 04 05 06 07 08 09 10 11 12 \n",
      "년:  17\n",
      "01 02 03 04 05 06 07 08 09 10 11 12 \n",
      "년:  18\n",
      "01 02 03 04 05 06 07 08 09 10 11 12 \n",
      "년:  19\n",
      "01 02 03 04 05 06 07 08 09 10 11 12 \n",
      "년:  20\n",
      "01 02 03 04 05 06 07 08 09 10 11 12 \n",
      "년:  21\n",
      "01 02 03 04 05 06 07 08 09 10 11 12 \n",
      "년:  22\n",
      "01 02 03 04 05 06 07 08 09 10 11 12 \n",
      "년:  23\n",
      "01 02 03 04 05 06 07 08 09 10 11 12 \n",
      "년:  24\n",
      "01 02 03 04 05 06 07 08 09 10 11 12 \n",
      "년:  25\n",
      "01 02 03 04 05 06 07 08 09 10 11 12 \n",
      "왕:  w\n",
      "\n",
      "년:  00\n",
      "01 02 03 04 05 06 07 08 09 10 11 12 \n",
      "년:  01\n",
      "01 02 03 04 05 06 07 08 09 10 11 12 \n",
      "년:  02\n",
      "01 02 03 04 05 06 07 08 09 10 11 12 \n",
      "년:  03\n",
      "01 02 03 04 05 06 07 08 09 10 11 12 \n",
      "년:  04\n",
      "01 02 03 04 05 06 07 08 09 10 11 12 \n",
      "년:  05\n",
      "01 02 03 04 05 06 07 08 09 10 11 12 \n",
      "년:  06\n",
      "01 02 03 04 05 06 07 08 09 10 11 12 \n",
      "년:  07\n",
      "01 02 03 04 05 06 07 08 09 10 11 12 \n",
      "년:  08\n",
      "01 02 03 04 05 06 07 08 09 10 11 12 \n",
      "년:  09\n",
      "01 02 03 04 05 06 07 08 09 10 11 12 \n",
      "년:  10\n",
      "01 02 03 04 05 06 07 08 09 10 11 12 \n",
      "년:  11\n",
      "01 02 03 04 05 06 07 08 09 10 11 12 \n",
      "년:  12\n",
      "01 02 03 04 05 06 07 08 09 10 11 12 \n",
      "년:  13\n",
      "01 02 03 04 05 06 07 08 09 10 11 12 \n",
      "년:  14\n",
      "01 02 03 04 05 06 07 08 09 10 11 12 \n",
      "년:  15\n",
      "01 02 03 04 05 06 07 08 09 10 11 12 \n",
      "년:  16\n",
      "01 02 03 04 05 06 07 08 09 10 11 12 \n",
      "년:  17\n",
      "01 02 03 04 05 06 07 08 09 10 11 12 \n",
      "년:  18\n",
      "01 02 03 04 05 06 07 08 09 10 11 12 \n",
      "년:  19\n",
      "01 02 03 04 05 06 07 08 09 10 11 12 \n",
      "년:  20\n",
      "01 02 03 04 05 06 07 08 09 10 11 12 \n",
      "년:  21\n",
      "01 02 03 04 05 06 07 08 09 10 11 12 \n",
      "년:  22\n",
      "01 02 03 04 05 06 07 08 09 10 11 12 \n",
      "년:  23\n",
      "01 02 03 04 05 06 07 08 09 10 11 12 \n",
      "년:  24\n",
      "01 02 03 04 05 06 07 08 09 10 11 12 \n",
      "년:  25\n",
      "01 02 03 04 05 06 07 08 09 10 11 12 \n",
      "년:  26\n",
      "01 02 03 04 05 06 07 08 09 10 11 12 \n",
      "년:  27\n",
      "01 02 03 04 05 06 07 08 09 10 11 12 \n",
      "년:  28\n",
      "01 02 03 04 05 06 07 08 09 10 11 12 \n",
      "년:  29\n",
      "01 02 03 04 05 06 07 08 09 10 11 12 \n",
      "년:  30\n",
      "01 02 03 04 05 06 07 08 09 10 11 12 \n",
      "년:  31\n",
      "01 02 03 04 05 06 07 08 09 10 11 12 \n",
      "년:  32\n",
      "01 02 03 04 05 06 07 08 09 10 11 12 \n",
      "년:  33\n",
      "01 02 03 04 05 06 07 08 09 10 11 12 \n",
      "년:  34\n",
      "01 02 03 04 05 06 07 08 09 10 11 12 \n",
      "년:  35\n",
      "01 02 03 04 05 06 07 08 09 10 11 12 \n",
      "왕:  x\n",
      "\n",
      "년:  00\n",
      "01 02 03 04 05 06 07 08 09 10 11 12 \n",
      "년:  01\n",
      "01 02 03 04 05 06 07 08 09 10 11 12 \n",
      "년:  02\n",
      "01 02 03 04 05 06 07 08 09 10 11 12 \n",
      "년:  03\n",
      "01 02 03 04 05 06 07 08 09 10 11 12 \n",
      "년:  04\n",
      "01 02 03 04 05 06 07 08 09 10 11 12 \n",
      "년:  05\n",
      "01 02 03 04 05 06 07 08 09 10 11 12 \n",
      "년:  06\n",
      "01 02 03 04 05 06 07 08 09 10 11 12 \n",
      "년:  07\n",
      "01 02 03 04 05 06 07 08 09 10 11 12 \n",
      "년:  08\n",
      "01 02 03 04 05 06 07 08 09 10 11 12 \n",
      "년:  09\n",
      "01 02 03 04 05 06 07 08 09 10 11 12 \n",
      "년:  10\n",
      "01 02 03 04 05 06 07 08 09 10 11 12 \n",
      "년:  11\n",
      "01 02 03 04 05 06 07 08 09 10 11 12 \n",
      "년:  12\n",
      "01 02 03 04 05 06 07 08 09 10 11 12 \n",
      "년:  13\n",
      "01 02 03 04 05 06 07 08 09 10 11 12 \n",
      "년:  14\n",
      "01 02 03 04 05 06 07 08 09 10 11 12 \n",
      "년:  15\n",
      "01 02 03 04 05 06 07 08 09 10 11 12 \n",
      "년:  16\n",
      "01 02 03 04 05 06 07 08 09 10 11 12 \n",
      "왕:  y\n",
      "\n",
      "년:  00\n",
      "01 02 03 04 05 06 07 08 09 10 11 12 \n",
      "년:  01\n",
      "01 02 03 04 05 06 07 08 09 10 11 12 \n",
      "년:  02\n",
      "01 02 03 04 05 06 07 08 09 10 11 12 \n",
      "년:  03\n",
      "01 02 03 04 05 06 07 08 09 10 11 12 \n",
      "년:  04\n",
      "01 02 03 04 05 06 07 08 09 10 11 12 \n",
      "년:  05\n",
      "01 02 03 04 05 06 07 08 09 10 11 12 \n",
      "년:  06\n",
      "01 02 03 04 05 06 07 08 09 10 11 12 \n",
      "년:  07\n",
      "01 02 03 04 05 06 07 08 09 10 11 12 \n",
      "년:  08\n",
      "01 02 03 04 05 06 07 08 09 10 11 12 \n",
      "년:  09\n",
      "01 02 03 04 05 06 07 08 09 10 11 12 \n",
      "년:  10\n",
      "01 02 03 04 05 06 07 08 09 10 11 12 \n",
      "년:  11\n",
      "01 02 03 04 05 06 07 08 09 10 11 12 \n",
      "년:  12\n",
      "01 02 03 04 05 06 07 08 09 10 11 12 \n",
      "년:  13\n",
      "01 02 03 04 05 06 07 08 09 10 11 12 \n",
      "년:  14\n",
      "01 02 03 04 05 06 07 08 09 10 11 12 \n",
      "년:  15\n",
      "01 02 03 04 05 06 07 08 09 10 11 12 "
     ]
    }
   ],
   "source": [
    "for king_url_part in king_url_parts:\n",
    "    print(\"\\n왕: \", king_url_part)\n",
    "    \n",
    "    # 가장 최근에 스크래핑된 왕의 url 파트보다 이전 값을 갖는 경우 스킵\n",
    "    if king_url_part < last_scraped_king_url_part:\n",
    "        continue\n",
    "        \n",
    "    base_url2 = \"a_1\"\n",
    "    # 광해군일기는 정초본을 스크래핑함\n",
    "    if king_url_part == \"o\":\n",
    "        base_url2 = \"b_1\"\n",
    "    \n",
    "    is_info_start = False\n",
    "    for king_year_url_part in king_year_url_parts:\n",
    "        print(\"\\n년: \", king_year_url_part)\n",
    "        \n",
    "        new_empty_url_mark_list = []\n",
    "        \n",
    "        # 이미 정보를 저장한 경우\n",
    "        if \"k{0}a_{1}.csv\".format(king_url_part, king_year_url_part) in capture_file_names:\n",
    "            continue\n",
    "\n",
    "        df =  pd.DataFrame(columns=[\"실록명\", \"권\", \"왕명\", \"즉위년\", \"즉위월\", \"윤년여부\", \"즉위일\",\n",
    "                        \"육십갑자\", \"기사순서\", \"연도\", \"중국국가명\", \"중국황제명\",\n",
    "                        \"중국황제즉위년\", \"제목\", \"내용\", \"분류\"])\n",
    "        for king_month_url_part in king_month_url_parts:\n",
    "            print(king_month_url_part, end=\" \")\n",
    "            \n",
    "            for leap_year_url_part in leap_year_url_parts:\n",
    "                for king_date_url_part in king_date_url_parts:\n",
    "                    url_mark = f\"{king_url_part}{king_year_url_part}{king_month_url_part}{leap_year_url_part}{king_date_url_part}\\n\"\n",
    "            \n",
    "                    # 정보가 없는 것이 확인된 페이지인 경우\n",
    "                    if url_mark[:-1] in empty_url_mark_list:\n",
    "                        continue\n",
    "                    \n",
    "                    count = 1 \n",
    "                    try:     \n",
    "                        while True:\n",
    "                            str_count = str(count).zfill(3)\n",
    "                            url = base_url1 + king_url_part + base_url2 + king_year_url_part + king_month_url_part + \\\n",
    "                              leap_year_url_part + king_date_url_part + base_url3 + str_count\n",
    "                            time.sleep(0.2)\n",
    "                            response = requests.get(url).text\n",
    "                            soup = BeautifulSoup(response, \"lxml\")\n",
    "                            # 오류 페이지가 아닌 경우 \n",
    "                            if len(soup.select(\"p.error_tit\")) == 0:\n",
    "                                title_loc = soup.select(\"span.tit_loc\")[0].getText(strip=True)\n",
    "                                siloc_name = re.match(\"[\\w\\[\\]]+\", title_loc).group()\n",
    "                                siloc_num = re.match(\"[\\w\\[\\]]+ (\\d+)\", title_loc).group(1)\n",
    "                                king_name = re.search(\", (\\w+)\", title_loc).group(1)\n",
    "                                king_year = re.search(\"([\\d즉위]+)년 윤*\\d\", title_loc).group(1)\n",
    "                                king_month = re.search(\"윤*(\\d+)월\", title_loc).group(1)\n",
    "                                is_leap_year = re.findall(\"(윤)\\d+\", title_loc)\n",
    "                                if len(is_leap_year) >= 1:\n",
    "                                    is_leap_year = 1\n",
    "                                else:\n",
    "                                    is_leap_year = 0\n",
    "                                king_date = re.search(\"월 (\\d+)일\", title_loc).group(1)\n",
    "                                kapja = \"\".join(re.findall(\"\\d+일 (\\w+) \\d\", title_loc))\n",
    "                                article_num = re.search(\"(\\d+)번째기사\", title_loc).group(1)\n",
    "                                year = re.search(\"번째기사(\\d+)\", title_loc).group(1)\n",
    "                                chinese_country_name = re.search(\"번째기사\\d+년 (\\w+)\", title_loc).group(1)\n",
    "                                chinese_emperor_name = re.search(\"번째기사\\d+년 \\w+ ([\\w()]+)\", title_loc).group(1)\n",
    "                                chinese_emperor_year = re.search(\"(\\d+)년$\", title_loc).group(1)\n",
    "                                title = soup.select(\"h3\")[0].getText()\n",
    "                                content = \"\\n\".join([tag.getText(strip=True) for tag in soup.select(\"div.ins_left_in p.paragraph\")])\n",
    "                                content = content.split(\"\\n○\")[0] # 태그로 걸렀음에도 원문부분까지 나오는 것을 방지\n",
    "                                content_class = soup.select(\"div.ins_left_in \")[0].getText(strip=True)\n",
    "                                content_class = content_class[re.search(\"【분류】\", content_class).end():]\n",
    "                                content_class = content_class.split(\"[\")[0]\n",
    "                                df = df.append({\"실록명\": siloc_name, \"권\": siloc_num, \"왕명\": king_name,\n",
    "                                                \"즉위년\": king_year, \"즉위월\": king_month, \"윤년여부\": is_leap_year, \"즉위일\": king_date,\n",
    "                                                \"육십갑자\": kapja, \"기사순서\": article_num, \"연도\": year,\n",
    "                                                \"중국국가명\": chinese_country_name, \"중국황제명\": chinese_emperor_name,\n",
    "                                                \"중국황제즉위년\": chinese_emperor_year, \"제목\": title, \"내용\": content, \"분류\": content_class}, ignore_index=True)\n",
    "                                count += 1\n",
    "                            # 오류 페이지인 경우\n",
    "                            else:\n",
    "                                # 해당 일에 아티클이 하나도 없는 경우\n",
    "                                if count == 1 and url_mark not in new_empty_url_mark_list:\n",
    "                                    new_empty_url_mark_list.append(url_mark)\n",
    "                                    with open(\"empty_url_marks.txt\", \"a\") as empty_url_marks:\n",
    "                                        empty_url_marks.write(url_mark)\n",
    "                                break\n",
    "                    except Exception as e:\n",
    "                        print(f\"url: {url}, 오류: {e}, 년: {king_year_url_part}, 월: {king_month_url_part}, 일: {king_date_url_part}\")\n",
    "                        assert Exception\n",
    "        if len(df.index) > 0:\n",
    "            is_info_start = True\n",
    "        # 정보가 있은 후에 다시 없기 시작하는 경우\n",
    "        if is_info_start and len(df.index) == 0:\n",
    "            break\n",
    "        if len(df) >= 1:      \n",
    "            df.to_csv(\"k{0}a_{1}.csv\".format(king_url_part, king_year_url_part), index=False, encoding=\"utf-8-sig\")"
   ]
  },
  {
   "cell_type": "markdown",
   "metadata": {},
   "source": [
    "---"
   ]
  },
  {
   "cell_type": "code",
   "execution_count": 17,
   "metadata": {},
   "outputs": [
    {
     "data": {
      "text/plain": [
       "'http://sillok.history.go.kr/id/kaa_10201009_001'"
      ]
     },
     "execution_count": 17,
     "metadata": {},
     "output_type": "execute_result"
    }
   ],
   "source": [
    "base_url1 + \"a\" + base_url2 + king_year_url_part + king_month_url_part + \\\n",
    "                          leap_year_url_part + king_date_url_part + base_url3 + str_count"
   ]
  },
  {
   "cell_type": "code",
   "execution_count": 171,
   "metadata": {},
   "outputs": [
    {
     "data": {
      "text/plain": [
       "'001'"
      ]
     },
     "execution_count": 171,
     "metadata": {},
     "output_type": "execute_result"
    }
   ],
   "source": [
    "count = 1\n",
    "str_count = str(count).zfill(3)\n",
    "str_count"
   ]
  },
  {
   "cell_type": "code",
   "execution_count": 90,
   "metadata": {},
   "outputs": [
    {
     "data": {
      "text/plain": [
       "['a0003', 'a0003', 'a0003', '']"
      ]
     },
     "execution_count": 90,
     "metadata": {},
     "output_type": "execute_result"
    }
   ],
   "source": [
    "empty_url_list.split(\"\\n\")"
   ]
  },
  {
   "cell_type": "code",
   "execution_count": 31,
   "metadata": {},
   "outputs": [
    {
     "data": {
      "text/plain": [
       "'http://sillok.history.go.kr/id/kaa_10101001_001'"
      ]
     },
     "execution_count": 31,
     "metadata": {},
     "output_type": "execute_result"
    }
   ],
   "source": [
    "base_url1+king_url_parts[0]+base_url2+king_year_url_parts[0]+king_month_url_parts[0]+leap_year_url_parts[0]+king_date_url_parts[0]+base_url3+\"001\""
   ]
  },
  {
   "cell_type": "code",
   "execution_count": null,
   "metadata": {},
   "outputs": [],
   "source": [
    "\"http://sillok.history.go.kr/id/kya_11307017_002\""
   ]
  },
  {
   "cell_type": "code",
   "execution_count": 27,
   "metadata": {},
   "outputs": [
    {
     "data": {
      "text/plain": [
       "'00asdf'"
      ]
     },
     "execution_count": 27,
     "metadata": {},
     "output_type": "execute_result"
    }
   ],
   "source": [
    "asdf = \"asdf\"\n",
    "asdf.zfill(6)"
   ]
  },
  {
   "cell_type": "code",
   "execution_count": 9,
   "metadata": {},
   "outputs": [
    {
     "data": {
      "text/plain": [
       "'abcdefghijklmnopqrstuvwxy'"
      ]
     },
     "execution_count": 9,
     "metadata": {},
     "output_type": "execute_result"
    }
   ],
   "source": []
  }
 ],
 "metadata": {
  "kernelspec": {
   "display_name": "Python 3",
   "language": "python",
   "name": "python3"
  },
  "language_info": {
   "codemirror_mode": {
    "name": "ipython",
    "version": 3
   },
   "file_extension": ".py",
   "mimetype": "text/x-python",
   "name": "python",
   "nbconvert_exporter": "python",
   "pygments_lexer": "ipython3",
   "version": "3.7.3"
  }
 },
 "nbformat": 4,
 "nbformat_minor": 2
}
