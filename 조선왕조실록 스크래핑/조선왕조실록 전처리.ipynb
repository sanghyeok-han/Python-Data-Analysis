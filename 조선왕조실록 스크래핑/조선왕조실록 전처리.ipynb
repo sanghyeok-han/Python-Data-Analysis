{
 "cells": [
  {
   "cell_type": "code",
   "execution_count": 37,
   "metadata": {},
   "outputs": [],
   "source": [
    "import pandas as pd"
   ]
  },
  {
   "cell_type": "code",
   "execution_count": 39,
   "metadata": {},
   "outputs": [
    {
     "name": "stderr",
     "output_type": "stream",
     "text": [
      "C:\\Users\\User\\Anaconda3\\lib\\site-packages\\IPython\\core\\interactiveshell.py:3146: DtypeWarning: Columns (3) have mixed types.Specify dtype option on import or set low_memory=False.\n",
      "  interactivity=interactivity, compiler=compiler, result=result)\n"
     ]
    }
   ],
   "source": [
    "df = pd.read_csv(\"조선왕조실록.csv\")"
   ]
  },
  {
   "cell_type": "code",
   "execution_count": 53,
   "metadata": {},
   "outputs": [
    {
     "data": {
      "text/plain": [
       "['가족',\n",
       " '건설',\n",
       " '공업',\n",
       " '과학',\n",
       " '광업',\n",
       " '교육',\n",
       " '교통',\n",
       " '구휼',\n",
       " '군사',\n",
       " '금융',\n",
       " '농업',\n",
       " '도량',\n",
       " '무역',\n",
       " '물가',\n",
       " '변란',\n",
       " '보건',\n",
       " '사법',\n",
       " '사상',\n",
       " '상업',\n",
       " '수산',\n",
       " '식생',\n",
       " '신분',\n",
       " '어문',\n",
       " '역사',\n",
       " '예술',\n",
       " '왕실',\n",
       " '외교',\n",
       " '윤리',\n",
       " '의생',\n",
       " '의약',\n",
       " '인물',\n",
       " '인사',\n",
       " '재정',\n",
       " '정론',\n",
       " '주생',\n",
       " '출판',\n",
       " '풍속',\n",
       " '행정',\n",
       " '향촌',\n",
       " '호구']"
      ]
     },
     "execution_count": 53,
     "metadata": {},
     "output_type": "execute_result"
    }
   ],
   "source": [
    "sorted(list(set(list(map(lambda x: x[:2], df[\"분류\"].values)))))"
   ]
  },
  {
   "cell_type": "code",
   "execution_count": null,
   "metadata": {},
   "outputs": [],
   "source": [
    "df[\"분류\"]"
   ]
  },
  {
   "cell_type": "code",
   "execution_count": 42,
   "metadata": {},
   "outputs": [],
   "source": [
    "article_type = df.filter([\"왕명\", \"분류\"])"
   ]
  },
  {
   "cell_type": "code",
   "execution_count": 43,
   "metadata": {},
   "outputs": [
    {
     "data": {
      "text/html": [
       "<div>\n",
       "<style scoped>\n",
       "    .dataframe tbody tr th:only-of-type {\n",
       "        vertical-align: middle;\n",
       "    }\n",
       "\n",
       "    .dataframe tbody tr th {\n",
       "        vertical-align: top;\n",
       "    }\n",
       "\n",
       "    .dataframe thead th {\n",
       "        text-align: right;\n",
       "    }\n",
       "</style>\n",
       "<table border=\"1\" class=\"dataframe\">\n",
       "  <thead>\n",
       "    <tr style=\"text-align: right;\">\n",
       "      <th></th>\n",
       "      <th>왕명</th>\n",
       "      <th>분류</th>\n",
       "    </tr>\n",
       "  </thead>\n",
       "  <tbody>\n",
       "    <tr>\n",
       "      <th>0</th>\n",
       "      <td>태조</td>\n",
       "      <td>인물(人物) / 왕실-의식(儀式) / 역사-고사(故事)</td>\n",
       "    </tr>\n",
       "    <tr>\n",
       "      <th>1</th>\n",
       "      <td>태조</td>\n",
       "      <td>인물(人物) / 왕실(王室) / 사상-토속신앙(土俗信仰)</td>\n",
       "    </tr>\n",
       "    <tr>\n",
       "      <th>2</th>\n",
       "      <td>태조</td>\n",
       "      <td>과학-천기(天氣) / 왕실(王室)</td>\n",
       "    </tr>\n",
       "    <tr>\n",
       "      <th>3</th>\n",
       "      <td>태조</td>\n",
       "      <td>외교-명(明) / 역사-고사(故事)</td>\n",
       "    </tr>\n",
       "    <tr>\n",
       "      <th>4</th>\n",
       "      <td>태조</td>\n",
       "      <td>군사-군정(軍政)</td>\n",
       "    </tr>\n",
       "    <tr>\n",
       "      <th>...</th>\n",
       "      <td>...</td>\n",
       "      <td>...</td>\n",
       "    </tr>\n",
       "    <tr>\n",
       "      <th>344319</th>\n",
       "      <td>철종</td>\n",
       "      <td>왕실(王室)</td>\n",
       "    </tr>\n",
       "    <tr>\n",
       "      <th>344320</th>\n",
       "      <td>철종</td>\n",
       "      <td>왕실(王室)</td>\n",
       "    </tr>\n",
       "    <tr>\n",
       "      <th>344321</th>\n",
       "      <td>철종</td>\n",
       "      <td>왕실(王室) / 사법(司法)</td>\n",
       "    </tr>\n",
       "    <tr>\n",
       "      <th>344322</th>\n",
       "      <td>철종</td>\n",
       "      <td>왕실(王室)</td>\n",
       "    </tr>\n",
       "    <tr>\n",
       "      <th>344323</th>\n",
       "      <td>철종</td>\n",
       "      <td>왕실(王室)</td>\n",
       "    </tr>\n",
       "  </tbody>\n",
       "</table>\n",
       "<p>344324 rows × 2 columns</p>\n",
       "</div>"
      ],
      "text/plain": [
       "        왕명                               분류\n",
       "0       태조   인물(人物) / 왕실-의식(儀式) / 역사-고사(故事)\n",
       "1       태조  인물(人物) / 왕실(王室) / 사상-토속신앙(土俗信仰)\n",
       "2       태조               과학-천기(天氣) / 왕실(王室)\n",
       "3       태조              외교-명(明) / 역사-고사(故事)\n",
       "4       태조                        군사-군정(軍政)\n",
       "...     ..                              ...\n",
       "344319  철종                           왕실(王室)\n",
       "344320  철종                           왕실(王室)\n",
       "344321  철종                  왕실(王室) / 사법(司法)\n",
       "344322  철종                           왕실(王室)\n",
       "344323  철종                           왕실(王室)\n",
       "\n",
       "[344324 rows x 2 columns]"
      ]
     },
     "execution_count": 43,
     "metadata": {},
     "output_type": "execute_result"
    }
   ],
   "source": [
    "article_type"
   ]
  },
  {
   "cell_type": "code",
   "execution_count": 44,
   "metadata": {},
   "outputs": [],
   "source": [
    "article_type2 =  article_type[\"분류\"].apply(lambda x: re.findall(\"([\\w-]+)\\(\",x))"
   ]
  },
  {
   "cell_type": "code",
   "execution_count": 45,
   "metadata": {},
   "outputs": [],
   "source": [
    "article_type[\"분류\"] = article_type2"
   ]
  },
  {
   "cell_type": "code",
   "execution_count": null,
   "metadata": {},
   "outputs": [],
   "source": []
  },
  {
   "cell_type": "code",
   "execution_count": 24,
   "metadata": {},
   "outputs": [
    {
     "data": {
      "text/plain": [
       "['人物']"
      ]
     },
     "execution_count": 24,
     "metadata": {},
     "output_type": "execute_result"
    }
   ],
   "source": [
    "import re\n",
    "re.findall(\"\\w+\", \"人物\")"
   ]
  }
 ],
 "metadata": {
  "kernelspec": {
   "display_name": "Python 3",
   "language": "python",
   "name": "python3"
  },
  "language_info": {
   "codemirror_mode": {
    "name": "ipython",
    "version": 3
   },
   "file_extension": ".py",
   "mimetype": "text/x-python",
   "name": "python",
   "nbconvert_exporter": "python",
   "pygments_lexer": "ipython3",
   "version": "3.7.3"
  }
 },
 "nbformat": 4,
 "nbformat_minor": 4
}
